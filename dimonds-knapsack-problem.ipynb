{
 "cells": [
  {
   "cell_type": "markdown",
   "id": "f78c1cce",
   "metadata": {
    "papermill": {
     "duration": 0.007371,
     "end_time": "2023-04-06T08:02:01.946315",
     "exception": false,
     "start_time": "2023-04-06T08:02:01.938944",
     "status": "completed"
    },
    "tags": []
   },
   "source": [
    "<p style=\"padding:4px;background-color:#eeeeee;\n",
    "          border-radius:40px;margin:0;color:#111111;\n",
    "          border:18px ridge #bbbbbb;\n",
    "          font-family:Charter;font-weight: bold;font-size:280%;text-align:center;overflow:hidden;font-weight:500\">💎 Dimonds Knapsack Problem 💰</p>"
   ]
  },
  {
   "cell_type": "markdown",
   "id": "56d688fb",
   "metadata": {
    "papermill": {
     "duration": 0.005873,
     "end_time": "2023-04-06T08:02:01.958567",
     "exception": false,
     "start_time": "2023-04-06T08:02:01.952694",
     "status": "completed"
    },
    "tags": []
   },
   "source": [
    "The knapsack problem is a classic optimization problem in computer science and operations research. It involves selecting a subset of items to pack into a knapsack with a limited weight capacity, while maximizing the total value of the selected items.\n",
    "\n",
    "In this notebook, we will explore how to solve the knapsack problem using Linear Programming from pulp library in Python. We will start by loading cpecific columns from our data such as carats and price. Then we will preprocess the data by searching for any inconsistancies, converting carats to kilograms and checking the weight of all gemstones. In the end we will use pulp library to search for optimal selection of items for out knapsack."
   ]
  },
  {
   "cell_type": "markdown",
   "id": "034a79a2",
   "metadata": {
    "execution": {
     "iopub.execute_input": "2023-03-24T16:01:54.000220Z",
     "iopub.status.busy": "2023-03-24T16:01:53.999744Z",
     "iopub.status.idle": "2023-03-24T16:01:54.008530Z",
     "shell.execute_reply": "2023-03-24T16:01:54.006893Z",
     "shell.execute_reply.started": "2023-03-24T16:01:54.000183Z"
    },
    "papermill": {
     "duration": 0.00561,
     "end_time": "2023-04-06T08:02:01.970473",
     "exception": false,
     "start_time": "2023-04-06T08:02:01.964863",
     "status": "completed"
    },
    "tags": []
   },
   "source": [
    "# <p style=\"padding:8px;background-color:#eeeeee;border-radius:40px;margin:0;color:#111111;border:6px ridge #bbbbbb;font-family:Charter;font-weight: bold;font-size:100%;text-align:center;overflow:hidden;font-weight:500\">Importing Main Libraries</p>"
   ]
  },
  {
   "cell_type": "code",
   "execution_count": 1,
   "id": "b34e54e2",
   "metadata": {
    "execution": {
     "iopub.execute_input": "2023-04-06T08:02:01.984424Z",
     "iopub.status.busy": "2023-04-06T08:02:01.983656Z",
     "iopub.status.idle": "2023-04-06T08:02:01.994170Z",
     "shell.execute_reply": "2023-04-06T08:02:01.993276Z"
    },
    "papermill": {
     "duration": 0.019979,
     "end_time": "2023-04-06T08:02:01.996441",
     "exception": false,
     "start_time": "2023-04-06T08:02:01.976462",
     "status": "completed"
    },
    "tags": []
   },
   "outputs": [],
   "source": [
    "import numpy as np # linear algebra\n",
    "import pandas as pd # data processing, CSV file I/O (e.g. pd.read_csv)"
   ]
  },
  {
   "cell_type": "markdown",
   "id": "c822410b",
   "metadata": {
    "papermill": {
     "duration": 0.006172,
     "end_time": "2023-04-06T08:02:02.008639",
     "exception": false,
     "start_time": "2023-04-06T08:02:02.002467",
     "status": "completed"
    },
    "tags": []
   },
   "source": [
    "# <p style=\"padding:8px;background-color:#eeeeee;border-radius:40px;margin:0;color:#111111;border:6px ridge #bbbbbb;font-family:Charter;font-weight: bold;font-size:100%;text-align:center;overflow:hidden;font-weight:500\">Loading Dataset</p>"
   ]
  },
  {
   "cell_type": "code",
   "execution_count": 2,
   "id": "5f11a93c",
   "metadata": {
    "execution": {
     "iopub.execute_input": "2023-04-06T08:02:02.021930Z",
     "iopub.status.busy": "2023-04-06T08:02:02.021517Z",
     "iopub.status.idle": "2023-04-06T08:02:02.025628Z",
     "shell.execute_reply": "2023-04-06T08:02:02.024585Z"
    },
    "papermill": {
     "duration": 0.012866,
     "end_time": "2023-04-06T08:02:02.027681",
     "exception": false,
     "start_time": "2023-04-06T08:02:02.014815",
     "status": "completed"
    },
    "tags": []
   },
   "outputs": [],
   "source": [
    "# Getting path of dataset\n",
    "dataset_path = \"/kaggle/input/diamonds/diamonds.csv\""
   ]
  },
  {
   "cell_type": "markdown",
   "id": "795dfb89",
   "metadata": {
    "papermill": {
     "duration": 0.005743,
     "end_time": "2023-04-06T08:02:02.039376",
     "exception": false,
     "start_time": "2023-04-06T08:02:02.033633",
     "status": "completed"
    },
    "tags": []
   },
   "source": [
    "<div style=\"background-color:#cce5ff; color:#1c2e4a; padding:10px; border-radius:10px\">\n",
    "    <span style=\"font-weight:bold\">💬 Info:</span> Only two columns - price and carat - are required to solve this problem without loading the entire dataset into memory.\n",
    "</div>"
   ]
  },
  {
   "cell_type": "code",
   "execution_count": 3,
   "id": "a44acae4",
   "metadata": {
    "execution": {
     "iopub.execute_input": "2023-04-06T08:02:02.052255Z",
     "iopub.status.busy": "2023-04-06T08:02:02.051966Z",
     "iopub.status.idle": "2023-04-06T08:02:02.222708Z",
     "shell.execute_reply": "2023-04-06T08:02:02.221646Z"
    },
    "papermill": {
     "duration": 0.180471,
     "end_time": "2023-04-06T08:02:02.225567",
     "exception": false,
     "start_time": "2023-04-06T08:02:02.045096",
     "status": "completed"
    },
    "tags": []
   },
   "outputs": [
    {
     "data": {
      "text/html": [
       "<div>\n",
       "<style scoped>\n",
       "    .dataframe tbody tr th:only-of-type {\n",
       "        vertical-align: middle;\n",
       "    }\n",
       "\n",
       "    .dataframe tbody tr th {\n",
       "        vertical-align: top;\n",
       "    }\n",
       "\n",
       "    .dataframe thead th {\n",
       "        text-align: right;\n",
       "    }\n",
       "</style>\n",
       "<table border=\"1\" class=\"dataframe\">\n",
       "  <thead>\n",
       "    <tr style=\"text-align: right;\">\n",
       "      <th></th>\n",
       "      <th>carat</th>\n",
       "      <th>price</th>\n",
       "    </tr>\n",
       "  </thead>\n",
       "  <tbody>\n",
       "    <tr>\n",
       "      <th>0</th>\n",
       "      <td>0.23</td>\n",
       "      <td>326</td>\n",
       "    </tr>\n",
       "    <tr>\n",
       "      <th>1</th>\n",
       "      <td>0.21</td>\n",
       "      <td>326</td>\n",
       "    </tr>\n",
       "    <tr>\n",
       "      <th>2</th>\n",
       "      <td>0.23</td>\n",
       "      <td>327</td>\n",
       "    </tr>\n",
       "    <tr>\n",
       "      <th>3</th>\n",
       "      <td>0.29</td>\n",
       "      <td>334</td>\n",
       "    </tr>\n",
       "    <tr>\n",
       "      <th>4</th>\n",
       "      <td>0.31</td>\n",
       "      <td>335</td>\n",
       "    </tr>\n",
       "  </tbody>\n",
       "</table>\n",
       "</div>"
      ],
      "text/plain": [
       "   carat  price\n",
       "0   0.23    326\n",
       "1   0.21    326\n",
       "2   0.23    327\n",
       "3   0.29    334\n",
       "4   0.31    335"
      ]
     },
     "execution_count": 3,
     "metadata": {},
     "output_type": "execute_result"
    }
   ],
   "source": [
    "# Loading price and carat from dataset\n",
    "df = pd.read_csv(dataset_path, usecols=[\"price\",\"carat\"])\n",
    "\n",
    "# Displaying first 5 rows\n",
    "df.head()"
   ]
  },
  {
   "cell_type": "markdown",
   "id": "8d80a7c8",
   "metadata": {
    "execution": {
     "iopub.execute_input": "2023-03-24T17:33:57.140974Z",
     "iopub.status.busy": "2023-03-24T17:33:57.140376Z",
     "iopub.status.idle": "2023-03-24T17:33:57.148699Z",
     "shell.execute_reply": "2023-03-24T17:33:57.147208Z",
     "shell.execute_reply.started": "2023-03-24T17:33:57.140936Z"
    },
    "papermill": {
     "duration": 0.006354,
     "end_time": "2023-04-06T08:02:02.238661",
     "exception": false,
     "start_time": "2023-04-06T08:02:02.232307",
     "status": "completed"
    },
    "tags": []
   },
   "source": [
    "<div style=\"background-color:#D4EDDA; color:#155724; padding:10px; border-radius:10px\">\n",
    "    <span style=\"font-weight:bold\">✅ Success:</span> As we can see, we correctly loaded needed columns.\n",
    "</div>"
   ]
  },
  {
   "cell_type": "markdown",
   "id": "bf1a20f5",
   "metadata": {
    "papermill": {
     "duration": 0.005868,
     "end_time": "2023-04-06T08:02:02.250557",
     "exception": false,
     "start_time": "2023-04-06T08:02:02.244689",
     "status": "completed"
    },
    "tags": []
   },
   "source": [
    "# <p style=\"padding:8px;background-color:#eeeeee;border-radius:40px;margin:0;color:#111111;border:6px ridge #bbbbbb;font-family:Charter;font-weight: bold;font-size:100%;text-align:center;overflow:hidden;font-weight:500\">Preprocessing</p>"
   ]
  },
  {
   "cell_type": "markdown",
   "id": "91f99844",
   "metadata": {
    "papermill": {
     "duration": 0.006593,
     "end_time": "2023-04-06T08:02:02.263046",
     "exception": false,
     "start_time": "2023-04-06T08:02:02.256453",
     "status": "completed"
    },
    "tags": []
   },
   "source": [
    "### Printing Shape of Data"
   ]
  },
  {
   "cell_type": "code",
   "execution_count": 4,
   "id": "40291e11",
   "metadata": {
    "execution": {
     "iopub.execute_input": "2023-04-06T08:02:02.277575Z",
     "iopub.status.busy": "2023-04-06T08:02:02.276616Z",
     "iopub.status.idle": "2023-04-06T08:02:02.283266Z",
     "shell.execute_reply": "2023-04-06T08:02:02.282227Z"
    },
    "papermill": {
     "duration": 0.016145,
     "end_time": "2023-04-06T08:02:02.285385",
     "exception": false,
     "start_time": "2023-04-06T08:02:02.269240",
     "status": "completed"
    },
    "tags": []
   },
   "outputs": [
    {
     "data": {
      "text/plain": [
       "(53940, 2)"
      ]
     },
     "execution_count": 4,
     "metadata": {},
     "output_type": "execute_result"
    }
   ],
   "source": [
    "# shape of dataframe\n",
    "df.shape"
   ]
  },
  {
   "cell_type": "markdown",
   "id": "e53046c8",
   "metadata": {
    "papermill": {
     "duration": 0.006183,
     "end_time": "2023-04-06T08:02:02.297943",
     "exception": false,
     "start_time": "2023-04-06T08:02:02.291760",
     "status": "completed"
    },
    "tags": []
   },
   "source": [
    "<div style=\"background-color:#cce5ff; color:#1c2e4a; padding:10px; border-radius:10px\">\n",
    "    <span style=\"font-weight:bold\">💬 Info:</span> Our data has 53940 rows and 2 columns.\n",
    "</div>"
   ]
  },
  {
   "cell_type": "markdown",
   "id": "e619b7a1",
   "metadata": {
    "papermill": {
     "duration": 0.006059,
     "end_time": "2023-04-06T08:02:02.310213",
     "exception": false,
     "start_time": "2023-04-06T08:02:02.304154",
     "status": "completed"
    },
    "tags": []
   },
   "source": [
    "### Checking Number of Missing Values"
   ]
  },
  {
   "cell_type": "code",
   "execution_count": 5,
   "id": "ad9c8afe",
   "metadata": {
    "execution": {
     "iopub.execute_input": "2023-04-06T08:02:02.324220Z",
     "iopub.status.busy": "2023-04-06T08:02:02.323932Z",
     "iopub.status.idle": "2023-04-06T08:02:02.333922Z",
     "shell.execute_reply": "2023-04-06T08:02:02.332754Z"
    },
    "papermill": {
     "duration": 0.019719,
     "end_time": "2023-04-06T08:02:02.336383",
     "exception": false,
     "start_time": "2023-04-06T08:02:02.316664",
     "status": "completed"
    },
    "tags": []
   },
   "outputs": [
    {
     "data": {
      "text/plain": [
       "carat    0\n",
       "price    0\n",
       "dtype: int64"
      ]
     },
     "execution_count": 5,
     "metadata": {},
     "output_type": "execute_result"
    }
   ],
   "source": [
    "# number of missing values\n",
    "df.isna().sum()"
   ]
  },
  {
   "cell_type": "markdown",
   "id": "6e6e4e82",
   "metadata": {
    "execution": {
     "iopub.execute_input": "2023-03-24T17:39:57.389131Z",
     "iopub.status.busy": "2023-03-24T17:39:57.388095Z",
     "iopub.status.idle": "2023-03-24T17:39:57.396599Z",
     "shell.execute_reply": "2023-03-24T17:39:57.395138Z",
     "shell.execute_reply.started": "2023-03-24T17:39:57.389085Z"
    },
    "papermill": {
     "duration": 0.006505,
     "end_time": "2023-04-06T08:02:02.350564",
     "exception": false,
     "start_time": "2023-04-06T08:02:02.344059",
     "status": "completed"
    },
    "tags": []
   },
   "source": [
    "<div style=\"background-color:#cce5ff; color:#1c2e4a; padding:10px; border-radius:10px\">\n",
    "    <span style=\"font-weight:bold\">💬 Info:</span> Data has no missing values.\n",
    "</div>"
   ]
  },
  {
   "cell_type": "markdown",
   "id": "55d0c79e",
   "metadata": {
    "papermill": {
     "duration": 0.006797,
     "end_time": "2023-04-06T08:02:02.364295",
     "exception": false,
     "start_time": "2023-04-06T08:02:02.357498",
     "status": "completed"
    },
    "tags": []
   },
   "source": [
    "<div style=\"background-color:#cce5ff; color:#1c2e4a; padding:10px; border-radius:10px\">\n",
    "    <span style=\"font-weight:bold\">💬 Info:</span> Becouse it would be easier to work on standars units of measurment I am gonna convert carats to kilograms.\n",
    "</div>"
   ]
  },
  {
   "cell_type": "markdown",
   "id": "f0380cfd",
   "metadata": {
    "papermill": {
     "duration": 0.006724,
     "end_time": "2023-04-06T08:02:02.378277",
     "exception": false,
     "start_time": "2023-04-06T08:02:02.371553",
     "status": "completed"
    },
    "tags": []
   },
   "source": [
    "### Converting carats to kilograms"
   ]
  },
  {
   "cell_type": "code",
   "execution_count": 6,
   "id": "45fd419d",
   "metadata": {
    "execution": {
     "iopub.execute_input": "2023-04-06T08:02:02.394161Z",
     "iopub.status.busy": "2023-04-06T08:02:02.393209Z",
     "iopub.status.idle": "2023-04-06T08:02:02.430727Z",
     "shell.execute_reply": "2023-04-06T08:02:02.429109Z"
    },
    "papermill": {
     "duration": 0.047861,
     "end_time": "2023-04-06T08:02:02.433203",
     "exception": false,
     "start_time": "2023-04-06T08:02:02.385342",
     "status": "completed"
    },
    "tags": []
   },
   "outputs": [
    {
     "name": "stderr",
     "output_type": "stream",
     "text": [
      "/opt/conda/lib/python3.7/site-packages/ipykernel_launcher.py:5: FutureWarning: In a future version of pandas all arguments of DataFrame.drop except for the argument 'labels' will be keyword-only\n",
      "  \"\"\"\n"
     ]
    },
    {
     "data": {
      "text/html": [
       "<div>\n",
       "<style scoped>\n",
       "    .dataframe tbody tr th:only-of-type {\n",
       "        vertical-align: middle;\n",
       "    }\n",
       "\n",
       "    .dataframe tbody tr th {\n",
       "        vertical-align: top;\n",
       "    }\n",
       "\n",
       "    .dataframe thead th {\n",
       "        text-align: right;\n",
       "    }\n",
       "</style>\n",
       "<table border=\"1\" class=\"dataframe\">\n",
       "  <thead>\n",
       "    <tr style=\"text-align: right;\">\n",
       "      <th></th>\n",
       "      <th>price</th>\n",
       "      <th>kilogram</th>\n",
       "    </tr>\n",
       "  </thead>\n",
       "  <tbody>\n",
       "    <tr>\n",
       "      <th>0</th>\n",
       "      <td>326</td>\n",
       "      <td>0.000046</td>\n",
       "    </tr>\n",
       "    <tr>\n",
       "      <th>1</th>\n",
       "      <td>326</td>\n",
       "      <td>0.000042</td>\n",
       "    </tr>\n",
       "    <tr>\n",
       "      <th>2</th>\n",
       "      <td>327</td>\n",
       "      <td>0.000046</td>\n",
       "    </tr>\n",
       "    <tr>\n",
       "      <th>3</th>\n",
       "      <td>334</td>\n",
       "      <td>0.000058</td>\n",
       "    </tr>\n",
       "    <tr>\n",
       "      <th>4</th>\n",
       "      <td>335</td>\n",
       "      <td>0.000062</td>\n",
       "    </tr>\n",
       "  </tbody>\n",
       "</table>\n",
       "</div>"
      ],
      "text/plain": [
       "   price  kilogram\n",
       "0    326  0.000046\n",
       "1    326  0.000042\n",
       "2    327  0.000046\n",
       "3    334  0.000058\n",
       "4    335  0.000062"
      ]
     },
     "execution_count": 6,
     "metadata": {},
     "output_type": "execute_result"
    }
   ],
   "source": [
    "# Creating new column\n",
    "df['kilogram'] = df['carat'].apply(lambda x: x * 0.0002)\n",
    "\n",
    "# Dropping old column\n",
    "df = df.drop(\"carat\", 1)\n",
    "\n",
    "# Printing results\n",
    "df.head()"
   ]
  },
  {
   "cell_type": "markdown",
   "id": "571f75c8",
   "metadata": {
    "papermill": {
     "duration": 0.007109,
     "end_time": "2023-04-06T08:02:02.448093",
     "exception": false,
     "start_time": "2023-04-06T08:02:02.440984",
     "status": "completed"
    },
    "tags": []
   },
   "source": [
    "### Calculating the weight of all items"
   ]
  },
  {
   "cell_type": "code",
   "execution_count": 7,
   "id": "c4793899",
   "metadata": {
    "execution": {
     "iopub.execute_input": "2023-04-06T08:02:02.463178Z",
     "iopub.status.busy": "2023-04-06T08:02:02.462872Z",
     "iopub.status.idle": "2023-04-06T08:02:02.470601Z",
     "shell.execute_reply": "2023-04-06T08:02:02.469371Z"
    },
    "papermill": {
     "duration": 0.018026,
     "end_time": "2023-04-06T08:02:02.472914",
     "exception": false,
     "start_time": "2023-04-06T08:02:02.454888",
     "status": "completed"
    },
    "tags": []
   },
   "outputs": [
    {
     "data": {
      "text/plain": [
       "8.608174000000002"
      ]
     },
     "execution_count": 7,
     "metadata": {},
     "output_type": "execute_result"
    }
   ],
   "source": [
    "# Sum of kilogram column\n",
    "df.kilogram.sum()"
   ]
  },
  {
   "cell_type": "markdown",
   "id": "5002c2ed",
   "metadata": {
    "papermill": {
     "duration": 0.006342,
     "end_time": "2023-04-06T08:02:02.486004",
     "exception": false,
     "start_time": "2023-04-06T08:02:02.479662",
     "status": "completed"
    },
    "tags": []
   },
   "source": [
    "<div style=\"background-color:#cce5ff; color:#1c2e4a; padding:10px; border-radius:10px\">\n",
    "    <span style=\"font-weight:bold\">💬 Info:</span> Weight of all gemstones tourns out to be quite small 😅.\n",
    "</div>"
   ]
  },
  {
   "cell_type": "markdown",
   "id": "cb97b176",
   "metadata": {
    "papermill": {
     "duration": 0.006408,
     "end_time": "2023-04-06T08:02:02.499064",
     "exception": false,
     "start_time": "2023-04-06T08:02:02.492656",
     "status": "completed"
    },
    "tags": []
   },
   "source": [
    "<div style=\"background-color:#D4EDDA; color:#155724; padding:10px; border-radius:10px\">\n",
    "    <span style=\"font-weight:bold\">✅ Success:</span> We have verified that the data is clean, converted carats to kilograms, and calculated the total weight of all gemstones which is 8.6kg.\n",
    "</div>"
   ]
  },
  {
   "cell_type": "markdown",
   "id": "8bec22b5",
   "metadata": {
    "papermill": {
     "duration": 0.006395,
     "end_time": "2023-04-06T08:02:02.512173",
     "exception": false,
     "start_time": "2023-04-06T08:02:02.505778",
     "status": "completed"
    },
    "tags": []
   },
   "source": [
    "# <p style=\"padding:8px;background-color:#eeeeee;border-radius:40px;margin:0;color:#111111;border:6px ridge #bbbbbb;font-family:Charter;font-weight: bold;font-size:100%;text-align:center;overflow:hidden;font-weight:500\">Solving Task</p>"
   ]
  },
  {
   "cell_type": "markdown",
   "id": "9fb52cc9",
   "metadata": {
    "papermill": {
     "duration": 0.006168,
     "end_time": "2023-04-06T08:02:02.524839",
     "exception": false,
     "start_time": "2023-04-06T08:02:02.518671",
     "status": "completed"
    },
    "tags": []
   },
   "source": [
    "<div style=\"background-color:#cce5ff; color:#1c2e4a; padding:10px; border-radius:10px\">\n",
    "    <span style=\"font-weight:bold\">💬 Info:</span> We will start by defining how much weight our knapsack can carry.\n",
    "</div>"
   ]
  },
  {
   "cell_type": "code",
   "execution_count": 8,
   "id": "4c8047b4",
   "metadata": {
    "execution": {
     "iopub.execute_input": "2023-04-06T08:02:02.539133Z",
     "iopub.status.busy": "2023-04-06T08:02:02.538858Z",
     "iopub.status.idle": "2023-04-06T08:02:02.542801Z",
     "shell.execute_reply": "2023-04-06T08:02:02.541744Z"
    },
    "papermill": {
     "duration": 0.013628,
     "end_time": "2023-04-06T08:02:02.544899",
     "exception": false,
     "start_time": "2023-04-06T08:02:02.531271",
     "status": "completed"
    },
    "tags": []
   },
   "outputs": [],
   "source": [
    "# Defining the maximum weight of knapsack\n",
    "KNAPSACK_CAPACITY_KG = 5"
   ]
  },
  {
   "cell_type": "markdown",
   "id": "526a7d3b",
   "metadata": {
    "papermill": {
     "duration": 0.006193,
     "end_time": "2023-04-06T08:02:02.557490",
     "exception": false,
     "start_time": "2023-04-06T08:02:02.551297",
     "status": "completed"
    },
    "tags": []
   },
   "source": [
    "<div style=\"background-color:#cce5ff; color:#1c2e4a; padding:10px; border-radius:10px\">\n",
    "    <span style=\"font-weight:bold\">💬 Info:</span> Now we import necessary modules and use them to solve our problem\n",
    "</div>"
   ]
  },
  {
   "cell_type": "code",
   "execution_count": 9,
   "id": "1e86521c",
   "metadata": {
    "execution": {
     "iopub.execute_input": "2023-04-06T08:02:02.572395Z",
     "iopub.status.busy": "2023-04-06T08:02:02.571866Z",
     "iopub.status.idle": "2023-04-06T08:02:18.278142Z",
     "shell.execute_reply": "2023-04-06T08:02:18.276867Z"
    },
    "papermill": {
     "duration": 15.716677,
     "end_time": "2023-04-06T08:02:18.280815",
     "exception": false,
     "start_time": "2023-04-06T08:02:02.564138",
     "status": "completed"
    },
    "tags": []
   },
   "outputs": [
    {
     "name": "stderr",
     "output_type": "stream",
     "text": [
      "/opt/conda/lib/python3.7/site-packages/pulp/pulp.py:1352: UserWarning: Spaces are not permitted in the name. Converted to '_'\n",
      "  warnings.warn(\"Spaces are not permitted in the name. Converted to '_'\")\n"
     ]
    },
    {
     "name": "stdout",
     "output_type": "stream",
     "text": [
      "Welcome to the CBC MILP Solver \n",
      "Version: 2.10.3 \n",
      "Build Date: Dec 15 2019 \n",
      "\n",
      "command line - /opt/conda/lib/python3.7/site-packages/pulp/solverdir/cbc/linux/64/cbc /tmp/c7b2c60e73c74290ad4eff88bfdf41b2-pulp.mps max timeMode elapsed branch printingOptions all solution /tmp/c7b2c60e73c74290ad4eff88bfdf41b2-pulp.sol (default strategy 1)\n",
      "At line 2 NAME          MODEL\n",
      "At line 3 ROWS\n",
      "At line 6 COLUMNS\n",
      "At line 215767 RHS\n",
      "At line 215769 BOUNDS\n",
      "At line 269710 ENDATA\n",
      "Problem MODEL has 1 rows, 53940 columns and 53940 elements\n",
      "Coin0008I MODEL read with 0 errors\n",
      "Option for timeMode changed from cpu to elapsed\n",
      "Continuous objective value is 1.58149e+08 - 0.36 seconds\n",
      "Cgl0004I processed model has 1 rows, 33408 columns (33408 integer (26593 of which binary)) and 33408 elements\n",
      "Cutoff increment increased from 1e-05 to 0.9999\n",
      "Cbc0038I Initial state - 1 integers unsatisfied sum - 0.356436\n",
      "Cbc0038I Solution found of -1.58148e+08\n",
      "Cbc0038I Cleaned solution of -1.58148e+08\n",
      "Cbc0038I Before mini branch and bound, 33407 integers at bound fixed and 0 continuous\n",
      "Cbc0038I Full problem 1 rows 33408 columns, reduced to 0 rows 0 columns\n",
      "Cbc0038I Mini branch and bound did not improve solution (1.03 seconds)\n",
      "Cbc0038I Round again with cutoff of -1.58148e+08\n",
      "Cbc0038I Reduced cost fixing fixed 10128 variables on major pass 2\n",
      "Cbc0038I Pass   1: suminf.    0.02857 (1) obj. -1.58149e+08 iterations 1\n",
      "Cbc0038I Solution found of -1.58149e+08\n",
      "Cbc0038I Branch and bound needed to clear up 1 general integers\n",
      "Cbc0038I Full problem 2 rows 33408 columns, reduced to 2 rows 4877 columns\n",
      "Cbc0038I Cleaned solution of -1.58149e+08\n",
      "Cbc0038I Before mini branch and bound, 33406 integers at bound fixed and 0 continuous\n",
      "Cbc0038I Mini branch and bound did not improve solution (1.74 seconds)\n",
      "Cbc0038I Round again with cutoff of -1.58149e+08\n",
      "Cbc0038I Reduced cost fixing fixed 32203 variables on major pass 3\n",
      "Cbc0038I Pass   2: suminf.    0.33645 (1) obj. -1.58149e+08 iterations 1\n",
      "Cbc0038I Solution found of -1.58149e+08\n",
      "Cbc0038I Branch and bound needed to clear up 1 general integers\n",
      "Cbc0038I Full problem 2 rows 33408 columns, reduced to 2 rows 194 columns\n",
      "Cbc0038I Mini branch and bound could not fix general integers\n",
      "Cbc0038I No solution found this major pass\n",
      "Cbc0038I Before mini branch and bound, 33406 integers at bound fixed and 0 continuous\n",
      "Cbc0038I Mini branch and bound did not improve solution (1.88 seconds)\n",
      "Cbc0038I After 1.88 seconds - Feasibility pump exiting with objective of -1.58149e+08 - took 0.90 seconds\n",
      "Cbc0012I Integer solution of -1.5814938e+08 found by feasibility pump after 0 iterations and 0 nodes (1.88 seconds)\n",
      "Cbc0038I Full problem 1 rows 33408 columns, reduced to 0 rows 0 columns\n",
      "Cbc0013I At root node, 0 cuts changed objective from -1.5814946e+08 to -1.5814946e+08 in 1 passes\n",
      "Cbc0014I Cut generator 0 (Probing) - 0 row cuts average 0.0 elements, 199 column cuts (199 active)  in 0.006 seconds - new frequency is 1\n",
      "Cbc0014I Cut generator 1 (Gomory) - 0 row cuts average 0.0 elements, 0 column cuts (0 active)  in 0.000 seconds - new frequency is -100\n",
      "Cbc0014I Cut generator 2 (Knapsack) - 0 row cuts average 0.0 elements, 0 column cuts (0 active)  in 0.001 seconds - new frequency is -100\n",
      "Cbc0014I Cut generator 3 (Clique) - 0 row cuts average 0.0 elements, 0 column cuts (0 active)  in 0.000 seconds - new frequency is -100\n",
      "Cbc0014I Cut generator 4 (MixedIntegerRounding2) - 0 row cuts average 0.0 elements, 0 column cuts (0 active)  in 0.002 seconds - new frequency is -100\n",
      "Cbc0014I Cut generator 5 (FlowCover) - 0 row cuts average 0.0 elements, 0 column cuts (0 active)  in 0.001 seconds - new frequency is -100\n",
      "Cbc0010I After 0 nodes, 1 on tree, -1.5814938e+08 best solution, best possible -1.5814946e+08 (2.91 seconds)\n",
      "Cbc0038I Full problem 1 rows 33408 columns, reduced to 1 rows 4 columns\n",
      "Cbc0038I Full problem 1 rows 33408 columns, reduced to 1 rows 1219 columns\n",
      "Cbc0044I Reduced cost fixing - 1 rows, 1219 columns - restarting search\n",
      "Cbc0012I Integer solution of -1.5740558e+08 found by Previous solution after 0 iterations and 0 nodes (12.16 seconds)\n",
      "Cbc0012I Integer solution of -1.5814797e+08 found by DiveCoefficient after 0 iterations and 0 nodes (12.17 seconds)\n",
      "Cbc0038I Full problem 1 rows 1219 columns, reduced to 0 rows 0 columns\n",
      "Cbc0012I Integer solution of -1.5814842e+08 found by DiveCoefficient after 34 iterations and 0 nodes (12.22 seconds)\n",
      "Cbc0031I 3 added rows had average density of 1214.6667\n",
      "Cbc0013I At root node, 3 cuts changed objective from -1.5814946e+08 to -1.5814946e+08 in 10 passes\n",
      "Cbc0014I Cut generator 0 (Probing) - 0 row cuts average 0.0 elements, 0 column cuts (0 active)  in 0.005 seconds - new frequency is 1\n",
      "Cbc0014I Cut generator 1 (Gomory) - 18 row cuts average 1216.1 elements, 0 column cuts (0 active)  in 0.003 seconds - new frequency is -100\n",
      "Cbc0014I Cut generator 2 (Knapsack) - 0 row cuts average 0.0 elements, 0 column cuts (0 active)  in 0.001 seconds - new frequency is -100\n",
      "Cbc0014I Cut generator 3 (Clique) - 0 row cuts average 0.0 elements, 0 column cuts (0 active)  in 0.000 seconds - new frequency is -100\n",
      "Cbc0014I Cut generator 4 (MixedIntegerRounding2) - 0 row cuts average 0.0 elements, 0 column cuts (0 active)  in 0.002 seconds - new frequency is -100\n",
      "Cbc0014I Cut generator 5 (FlowCover) - 7 row cuts average 576.6 elements, 0 column cuts (0 active)  in 0.010 seconds - new frequency is 1\n",
      "Cbc0014I Cut generator 6 (TwoMirCuts) - 0 row cuts average 0.0 elements, 0 column cuts (0 active)  in 0.001 seconds - new frequency is -100\n",
      "Cbc0014I Cut generator 7 (ZeroHalf) - 0 row cuts average 0.0 elements, 0 column cuts (0 active)  in 0.000 seconds - new frequency is -100\n",
      "Cbc0010I After 0 nodes, 1 on tree, -1.5814842e+08 best solution, best possible -1.5814946e+08 (12.22 seconds)\n",
      "Cbc0012I Integer solution of -1.581487e+08 found by rounding after 35 iterations and 1 nodes (12.22 seconds)\n",
      "Cbc0012I Integer solution of -1.5814939e+08 found by rounding after 37 iterations and 2 nodes (12.23 seconds)\n",
      "Cbc0012I Integer solution of -1.5814943e+08 found by rounding after 69 iterations and 34 nodes (12.60 seconds)\n",
      "Cbc0012I Integer solution of -1.5814943e+08 found by rounding after 71 iterations and 36 nodes (12.60 seconds)\n",
      "Cbc0012I Integer solution of -1.5814943e+08 found by rounding after 75 iterations and 40 nodes (12.60 seconds)\n",
      "Cbc0012I Integer solution of -1.5814944e+08 found by rounding after 76 iterations and 41 nodes (12.60 seconds)\n",
      "Cbc0038I Full problem 1 rows 1219 columns, reduced to 0 rows 0 columns\n",
      "Cbc0012I Integer solution of -1.5814944e+08 found by rounding after 97 iterations and 62 nodes (12.72 seconds)\n",
      "Cbc0012I Integer solution of -1.5814945e+08 found by rounding after 126 iterations and 91 nodes (12.74 seconds)\n",
      "Cbc0038I Full problem 1 rows 1219 columns, reduced to 0 rows 0 columns\n",
      "Cbc0016I Integer solution of -1.5814946e+08 found by strong branching after 133 iterations and 98 nodes (12.78 seconds)\n",
      "Cbc0010I After 100 nodes, 16 on tree, -1.5814946e+08 best solution, best possible -1.5814946e+08 (12.78 seconds)\n",
      "Cbc0038I Full problem 1 rows 1219 columns, reduced to 1 rows 4 columns\n",
      "Cbc0010I After 200 nodes, 7 on tree, -1.5814946e+08 best solution, best possible -1.5814946e+08 (12.89 seconds)\n",
      "Cbc0012I Integer solution of -1.5814946e+08 found by rounding after 252 iterations and 213 nodes (12.91 seconds)\n",
      "Cbc0012I Integer solution of -1.5814946e+08 found by rounding after 294 iterations and 237 nodes (12.98 seconds)\n",
      "Cbc0001I Search completed - best objective -158149464, took 294 iterations and 237 nodes (12.99 seconds)\n",
      "Cbc0032I Strong branching done 232 times (266 iterations), fathomed 4 nodes and fixed 1 variables\n",
      "Cbc0035I Maximum depth 38, 18729 variables fixed on reduced cost\n",
      "Cbc0038I Probing was tried 207 times and created 58 cuts of which 0 were active after adding rounds of cuts (0.021 seconds)\n",
      "Cbc0038I Gomory was tried 10 times and created 18 cuts of which 0 were active after adding rounds of cuts (0.003 seconds)\n",
      "Cbc0038I Knapsack was tried 10 times and created 0 cuts of which 0 were active after adding rounds of cuts (0.001 seconds)\n",
      "Cbc0038I Clique was tried 10 times and created 0 cuts of which 0 were active after adding rounds of cuts (0.000 seconds)\n",
      "Cbc0038I MixedIntegerRounding2 was tried 10 times and created 0 cuts of which 0 were active after adding rounds of cuts (0.002 seconds)\n",
      "Cbc0038I FlowCover was tried 58 times and created 16 cuts of which 0 were active after adding rounds of cuts (0.015 seconds)\n",
      "Cbc0038I TwoMirCuts was tried 10 times and created 0 cuts of which 0 were active after adding rounds of cuts (0.001 seconds)\n",
      "Cbc0038I ZeroHalf was tried 10 times and created 0 cuts of which 0 were active after adding rounds of cuts (0.000 seconds)\n",
      "Cbc0012I Integer solution of -1.5814946e+08 found by Reduced search after 344 iterations and 287 nodes (13.01 seconds)\n",
      "Cbc0001I Search completed - best objective -158149464, took 344 iterations and 287 nodes (13.01 seconds)\n",
      "Cbc0032I Strong branching done 86 times (86 iterations), fathomed 0 nodes and fixed 0 variables\n",
      "Cbc0035I Maximum depth 24, 25872 variables fixed on reduced cost\n",
      "Cuts at root node changed objective from -1.58149e+08 to -1.58149e+08\n",
      "Probing was tried 15 times and created 199 cuts of which 0 were active after adding rounds of cuts (0.025 seconds)\n",
      "Gomory was tried 1 times and created 0 cuts of which 0 were active after adding rounds of cuts (0.000 seconds)\n",
      "Knapsack was tried 1 times and created 0 cuts of which 0 were active after adding rounds of cuts (0.001 seconds)\n",
      "Clique was tried 1 times and created 0 cuts of which 0 were active after adding rounds of cuts (0.000 seconds)\n",
      "MixedIntegerRounding2 was tried 1 times and created 0 cuts of which 0 were active after adding rounds of cuts (0.002 seconds)\n",
      "FlowCover was tried 1 times and created 0 cuts of which 0 were active after adding rounds of cuts (0.001 seconds)\n",
      "TwoMirCuts was tried 1 times and created 0 cuts of which 0 were active after adding rounds of cuts (0.001 seconds)\n",
      "ZeroHalf was tried 1 times and created 0 cuts of which 0 were active after adding rounds of cuts (0.000 seconds)\n",
      "\n",
      "Result - Optimal solution found\n",
      "\n",
      "Objective value:                158149464.00000000\n",
      "Enumerated nodes:               287\n",
      "Total iterations:               344\n",
      "Time (CPU seconds):             12.93\n",
      "Time (Wallclock seconds):       13.07\n",
      "\n",
      "Option for printingOptions changed from normal to all\n",
      "Total time (CPU seconds):       13.07   (Wallclock seconds):       13.23\n",
      "\n"
     ]
    },
    {
     "data": {
      "text/plain": [
       "1"
      ]
     },
     "execution_count": 9,
     "metadata": {},
     "output_type": "execute_result"
    }
   ],
   "source": [
    "# Importing the necessary modules\n",
    "from pulp import LpProblem, LpVariable, lpSum, LpMaximize\n",
    "\n",
    "# Defining the weights and values of the items\n",
    "values = df.price.tolist()\n",
    "weights = df.kilogram.tolist()\n",
    "\n",
    "# Defining the number of items\n",
    "n_items = len(values)\n",
    "\n",
    "# Creating a PuLP maximization problem\n",
    "problem = LpProblem(\"Knapsack Problem\", LpMaximize)\n",
    "\n",
    "# Defining the decision variables\n",
    "x = [LpVariable(\"x{}\".format(i), lowBound=0, upBound=1, cat=\"Integer\") for i in range(n_items)]\n",
    "\n",
    "# Defining the objective function\n",
    "problem += lpSum([values[i] * x[i] for i in range(n_items)])\n",
    "\n",
    "# Defining the constraint for the knapsack capacity\n",
    "problem += lpSum([weights[i] * x[i] for i in range(n_items)]) <= KNAPSACK_CAPACITY_KG\n",
    "\n",
    "# Solving the problem\n",
    "problem.solve()"
   ]
  },
  {
   "cell_type": "markdown",
   "id": "fe8a3675",
   "metadata": {
    "execution": {
     "iopub.execute_input": "2023-03-24T17:55:19.531937Z",
     "iopub.status.busy": "2023-03-24T17:55:19.531318Z",
     "iopub.status.idle": "2023-03-24T17:55:19.539268Z",
     "shell.execute_reply": "2023-03-24T17:55:19.537577Z",
     "shell.execute_reply.started": "2023-03-24T17:55:19.531896Z"
    },
    "papermill": {
     "duration": 0.007151,
     "end_time": "2023-04-06T08:02:18.295849",
     "exception": false,
     "start_time": "2023-04-06T08:02:18.288698",
     "status": "completed"
    },
    "tags": []
   },
   "source": [
    "<div style=\"background-color:#cce5ff; color:#1c2e4a; padding:10px; border-radius:10px\">\n",
    "    <span style=\"font-weight:bold\">💬 Info:</span> Now we will get the results.\n",
    "</div>"
   ]
  },
  {
   "cell_type": "code",
   "execution_count": 10,
   "id": "c740a676",
   "metadata": {
    "execution": {
     "iopub.execute_input": "2023-04-06T08:02:18.313228Z",
     "iopub.status.busy": "2023-04-06T08:02:18.311652Z",
     "iopub.status.idle": "2023-04-06T08:02:18.342489Z",
     "shell.execute_reply": "2023-04-06T08:02:18.341146Z"
    },
    "papermill": {
     "duration": 0.04163,
     "end_time": "2023-04-06T08:02:18.344745",
     "exception": false,
     "start_time": "2023-04-06T08:02:18.303115",
     "status": "completed"
    },
    "tags": []
   },
   "outputs": [
    {
     "name": "stdout",
     "output_type": "stream",
     "text": [
      "Total value: 158149464\n",
      "Total weight: 4.999999999999971\n"
     ]
    }
   ],
   "source": [
    "# Printing the solution\n",
    "selected_items = []\n",
    "total_value = 0\n",
    "total_weight = 0\n",
    "for i in range(n_items):\n",
    "    if x[i].value() == 1:\n",
    "        selected_items.append(i)\n",
    "        total_value += values[i]\n",
    "        total_weight += weights[i]\n",
    "\n",
    "print(\"Total value:\", total_value)\n",
    "print(\"Total weight:\", total_weight)"
   ]
  },
  {
   "cell_type": "markdown",
   "id": "dbb81bf6",
   "metadata": {
    "execution": {
     "iopub.execute_input": "2023-03-24T17:56:08.380873Z",
     "iopub.status.busy": "2023-03-24T17:56:08.380241Z",
     "iopub.status.idle": "2023-03-24T17:56:08.389158Z",
     "shell.execute_reply": "2023-03-24T17:56:08.387430Z",
     "shell.execute_reply.started": "2023-03-24T17:56:08.380807Z"
    },
    "papermill": {
     "duration": 0.006901,
     "end_time": "2023-04-06T08:02:18.358507",
     "exception": false,
     "start_time": "2023-04-06T08:02:18.351606",
     "status": "completed"
    },
    "tags": []
   },
   "source": [
    "<div style=\"background-color:#cce5ff; color:#1c2e4a; padding:10px; border-radius:10px\">\n",
    "    <span style=\"font-weight:bold\">💬 Info:</span><br>As we can see all items that have been chosen have weight of 4.99kg which is bellow our 5kg threshold.<br>Also all those items combined have price of 158,149,464 dolars.\n",
    "</div>"
   ]
  },
  {
   "cell_type": "code",
   "execution_count": 11,
   "id": "65750a06",
   "metadata": {
    "execution": {
     "iopub.execute_input": "2023-04-06T08:02:18.373638Z",
     "iopub.status.busy": "2023-04-06T08:02:18.373365Z",
     "iopub.status.idle": "2023-04-06T08:02:18.378699Z",
     "shell.execute_reply": "2023-04-06T08:02:18.377576Z"
    },
    "papermill": {
     "duration": 0.016849,
     "end_time": "2023-04-06T08:02:18.382265",
     "exception": false,
     "start_time": "2023-04-06T08:02:18.365416",
     "status": "completed"
    },
    "tags": []
   },
   "outputs": [
    {
     "name": "stdout",
     "output_type": "stream",
     "text": [
      "Printing few selected items(index): [109, 127, 135, 139, 167, 168, 173, 180, 181, 207]\n"
     ]
    }
   ],
   "source": [
    "print(\"Printing few selected items(index):\", selected_items[:10])"
   ]
  },
  {
   "cell_type": "markdown",
   "id": "9e01eec9",
   "metadata": {
    "papermill": {
     "duration": 0.006983,
     "end_time": "2023-04-06T08:02:18.396314",
     "exception": false,
     "start_time": "2023-04-06T08:02:18.389331",
     "status": "completed"
    },
    "tags": []
   },
   "source": [
    "<div style=\"background-color:#D4EDDA; color:#155724; padding:10px; border-radius:10px\">\n",
    "    <span style=\"font-weight:bold\">✅ Success:</span> Using Linear Programming we solved the knapsack problem by maximizing the price of all items not exceeding the weight limit of a knapsack. \n",
    "</div>\n"
   ]
  },
  {
   "cell_type": "markdown",
   "id": "2b108578",
   "metadata": {
    "papermill": {
     "duration": 0.007313,
     "end_time": "2023-04-06T08:02:18.410846",
     "exception": false,
     "start_time": "2023-04-06T08:02:18.403533",
     "status": "completed"
    },
    "tags": []
   },
   "source": [
    "# <p style=\"padding:8px;background-color:#eeeeee;border-radius:40px;margin:0;color:#111111;border:6px ridge #bbbbbb;font-family:Charter;font-weight: bold;font-size:100%;text-align:center;overflow:hidden;font-weight:500\">Conclusion</p>"
   ]
  },
  {
   "cell_type": "markdown",
   "id": "64d0fbb2",
   "metadata": {
    "papermill": {
     "duration": 0.006876,
     "end_time": "2023-04-06T08:02:18.425097",
     "exception": false,
     "start_time": "2023-04-06T08:02:18.418221",
     "status": "completed"
    },
    "tags": []
   },
   "source": [
    "In this notebook, we explored how to solve the classic optimization problem of the knapsack problem using Linear Programming from the pulp library in Python. We started by loading specific columns from our dataset, preprocessing the data by converting carats to kilograms and checking for any inconsistencies. We then defined the maximum weight of the knapsack and imported necessary modules to solve our problem. We defined the weights and values of the items, created a PuLP maximization problem, defined decision variables, and the objective function, and added a constraint for the knapsack capacity. Finally, we solved the problem and printed the solution, showing the selected items and their total value and weight.\n",
    "\n",
    "Overall, this notebook provides a clear demonstration of how to use Linear Programming to solve the knapsack problem, which is a common optimization problem in computer science and operations research. I hope code is well-commented and it is easy to understand the steps involved in the solution."
   ]
  }
 ],
 "metadata": {
  "kernelspec": {
   "display_name": "Python 3",
   "language": "python",
   "name": "python3"
  },
  "language_info": {
   "codemirror_mode": {
    "name": "ipython",
    "version": 3
   },
   "file_extension": ".py",
   "mimetype": "text/x-python",
   "name": "python",
   "nbconvert_exporter": "python",
   "pygments_lexer": "ipython3",
   "version": "3.7.12"
  },
  "papermill": {
   "default_parameters": {},
   "duration": 26.754059,
   "end_time": "2023-04-06T08:02:18.953162",
   "environment_variables": {},
   "exception": null,
   "input_path": "__notebook__.ipynb",
   "output_path": "__notebook__.ipynb",
   "parameters": {},
   "start_time": "2023-04-06T08:01:52.199103",
   "version": "2.4.0"
  }
 },
 "nbformat": 4,
 "nbformat_minor": 5
}
